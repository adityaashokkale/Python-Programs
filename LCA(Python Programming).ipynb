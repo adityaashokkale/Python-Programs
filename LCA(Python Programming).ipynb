{
 "cells": [
  {
   "cell_type": "code",
   "execution_count": 8,
   "id": "90446351-bf7c-4ab4-a807-9b2dc095956e",
   "metadata": {},
   "outputs": [
    {
     "name": "stdin",
     "output_type": "stream",
     "text": [
      "Enter the time in hours (0-23):  8\n"
     ]
    },
    {
     "name": "stdout",
     "output_type": "stream",
     "text": [
      "Good Morning\n"
     ]
    }
   ],
   "source": [
    "#Q.16 Write a Python program that takes the time in hours(24 hour format) as input and prints \"Good Morning\", \"Good Afternoon\", \"Good Evening\" or \"Good Night\" based on the time.\n",
    "Time = int(input(\"Enter the time in hours (0-23): \"))\n",
    "\n",
    "if 6<= Time <= 12:\n",
    "    print(\"Good Morning\")\n",
    "elif 12 < Time <= 17:\n",
    "    print(\"Good Afternoon\")\n",
    "elif 17 < Time <= 21:\n",
    "    print(\"Good Evening\")\n",
    "elif 21 < Time <= 23 or 0 <= Time < 6:\n",
    "    print(\"Good Night\")\n",
    "else:\n",
    "    print(\"Wrong Input! Please check your clock!\")"
   ]
  },
  {
   "cell_type": "code",
   "execution_count": 10,
   "id": "6468f77a-e31d-4301-a9d2-88c62c96fcc7",
   "metadata": {},
   "outputs": [
    {
     "name": "stdout",
     "output_type": "stream",
     "text": [
      "Good Afternoon\n"
     ]
    }
   ],
   "source": [
    "#Q. Using Date-Time syntax create a Python program that prints current time and prints \"Good Morning\", \"Good Afternoon\", \"Good Evening\" or \"Good Night\" based on the current time.\n",
    "\n",
    "from datetime import datetime\n",
    "\n",
    "now = datetime.now()\n",
    "hour = now.hour\n",
    "\n",
    "if 6<= hour <= 12:\n",
    "    print(\"Good Morning\")\n",
    "elif 12 < hour <= 17:\n",
    "    print(\"Good Afternoon\")\n",
    "elif 17 < hour <= 21:\n",
    "    print(\"Good Evening\")\n",
    "elif 21 < hour <= 24 or 0 <= hour < 6:\n",
    "    print(\"Good Night\")            "
   ]
  }
 ],
 "metadata": {
  "kernelspec": {
   "display_name": "Python 3 (ipykernel)",
   "language": "python",
   "name": "python3"
  },
  "language_info": {
   "codemirror_mode": {
    "name": "ipython",
    "version": 3
   },
   "file_extension": ".py",
   "mimetype": "text/x-python",
   "name": "python",
   "nbconvert_exporter": "python",
   "pygments_lexer": "ipython3",
   "version": "3.13.5"
  }
 },
 "nbformat": 4,
 "nbformat_minor": 5
}

{
 "cells": [
  {
   "cell_type": "code",
   "execution_count": 9,
   "id": "26bd1c26-5ddf-41bc-bdec-4352ba9cfdc8",
   "metadata": {},
   "outputs": [
    {
     "data": {
      "text/plain": [
       "<function TextIOWrapper.close()>"
      ]
     },
     "execution_count": 9,
     "metadata": {},
     "output_type": "execute_result"
    }
   ],
   "source": [
    "#Open in write mode\n",
    "files = open(\"Example.txt\", \"w\")\n",
    "files.write(\"Hello, this is the first line\\n\")\n",
    "files.write(\"This is the second line.\\n\")\n",
    "files.close"
   ]
  },
  {
   "cell_type": "code",
   "execution_count": 10,
   "id": "463ccb15-5e90-45a5-9090-5c0a167b67c5",
   "metadata": {},
   "outputs": [
    {
     "name": "stdout",
     "output_type": "stream",
     "text": [
      "Hello, this is the first line\n",
      "This is the second line.\n"
     ]
    }
   ],
   "source": [
    "with open(\"Example.txt\", \"r\") as file:\n",
    "    content = file.read()\n",
    "    print(content)"
   ]
  },
  {
   "cell_type": "code",
   "execution_count": 21,
   "id": "30a50800-1426-4e19-b16d-a600caeac16e",
   "metadata": {},
   "outputs": [
    {
     "name": "stdout",
     "output_type": "stream",
     "text": [
      "Hello, this is the first line\n",
      "\n"
     ]
    }
   ],
   "source": [
    "with open(\"Example.txt\", \"r\") as file:\n",
    "    content = file.readline\n",
    "    print(file.readline())"
   ]
  },
  {
   "cell_type": "code",
   "execution_count": 22,
   "id": "de977daa-b173-4705-bd11-c1afad94bd73",
   "metadata": {},
   "outputs": [
    {
     "name": "stdout",
     "output_type": "stream",
     "text": [
      "['Hello, this is the first line\\n', 'This is the second line.']\n"
     ]
    }
   ],
   "source": [
    "with open(\"Example.txt\", \"r\") as file:\n",
    "    content = file.readlines\n",
    "    print(file.readlines())"
   ]
  },
  {
   "cell_type": "code",
   "execution_count": 28,
   "id": "f7354e61-6f18-4e5d-8eaa-3d03ebf0ece6",
   "metadata": {},
   "outputs": [],
   "source": [
    "#Open the file in append mode\n",
    "with open(\"Example.txt\", \"a\") as file:\n",
    "    file.write(\"This line is added later.\\n\")"
   ]
  },
  {
   "cell_type": "code",
   "execution_count": 32,
   "id": "af962755-8a7b-4087-900a-38db4748b34b",
   "metadata": {},
   "outputs": [
    {
     "name": "stdout",
     "output_type": "stream",
     "text": [
      "File.exists!\n"
     ]
    }
   ],
   "source": [
    "import os\n",
    "if os.path.exists(\"Example.txt\"):\n",
    "    print(\"File.exists!\")\n",
    "else:\n",
    "    print(\"File not found.\")"
   ]
  },
  {
   "cell_type": "code",
   "execution_count": 42,
   "id": "5fa96dd0-35c2-4ec0-b1dc-856fabd40153",
   "metadata": {},
   "outputs": [],
   "source": [
    "from datetime import datetime\n",
    "username = \"PAJEET SCAMMER\"\n",
    "with open(\"login_log.txt\", \"a\") as file:\n",
    "    file.write(f\"{username} logged in at {datetime.now()}\\n\")"
   ]
  },
  {
   "cell_type": "code",
   "execution_count": 37,
   "id": "16a8ee8a-0b04-4f54-bfce-9d20958ca7db",
   "metadata": {},
   "outputs": [
    {
     "name": "stdout",
     "output_type": "stream",
     "text": [
      "['Aditya Kale logged in at 2025-09-10 14:27:05.301646\\n', 'Aditya Kale logged in at 2025-09-10 14:33:12.038594\\n']\n"
     ]
    }
   ],
   "source": [
    "with open(\"login_log.txt\", \"r\") as file:\n",
    "    logs = file.readlines\n",
    "    print(file.readlines())"
   ]
  },
  {
   "cell_type": "code",
   "execution_count": 43,
   "id": "793413d7-6421-403e-8045-54b0036a0b56",
   "metadata": {},
   "outputs": [
    {
     "name": "stdout",
     "output_type": "stream",
     "text": [
      "['Aditya Kale logged in at 2025-09-10 14:27:05.301646\\n', 'Aditya Kale logged in at 2025-09-10 14:33:12.038594\\n', 'Aditya Kale logged in at 2025-09-10 14:34:27.319125\\n', 'PAJEET SCAMMER logged in at 2025-09-10 14:36:31.170714\\n']\n"
     ]
    }
   ],
   "source": [
    "with open(\"login_log.txt\", \"r\") as file:\n",
    "    logs = file.readlines\n",
    "    print(file.readlines())"
   ]
  },
  {
   "cell_type": "code",
   "execution_count": 49,
   "id": "2b6f14cf-18dc-4681-bfc6-ba68422b62e4",
   "metadata": {},
   "outputs": [],
   "source": [
    "Students = {\"Amit\":85, \"Sneha\":92, \"Rahul\": 76}\n",
    "with open(\"marks.txt\", \"w\") as file:\n",
    "    for name, marks in Students.items():\n",
    "        file.write(f\"{name}:{marks}\\n\")"
   ]
  }
 ],
 "metadata": {
  "kernelspec": {
   "display_name": "Python 3 (ipykernel)",
   "language": "python",
   "name": "python3"
  },
  "language_info": {
   "codemirror_mode": {
    "name": "ipython",
    "version": 3
   },
   "file_extension": ".py",
   "mimetype": "text/x-python",
   "name": "python",
   "nbconvert_exporter": "python",
   "pygments_lexer": "ipython3",
   "version": "3.13.5"
  }
 },
 "nbformat": 4,
 "nbformat_minor": 5
}

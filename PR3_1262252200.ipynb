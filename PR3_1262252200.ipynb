{
 "cells": [
  {
   "cell_type": "code",
   "execution_count": 3,
   "id": "d244ed80-0593-4260-a999-b3a33929b299",
   "metadata": {},
   "outputs": [
    {
     "name": "stdin",
     "output_type": "stream",
     "text": [
      "Enter the number: 8\n"
     ]
    },
    {
     "name": "stdout",
     "output_type": "stream",
     "text": [
      "The Number Entered is a Even number\n"
     ]
    }
   ],
   "source": [
    "# TO FIND THE NUMBER IS EVEN OR ODD\n",
    "num=int(input(\"Enter the number:\"))\n",
    "if num % 2 == 0:\n",
    "    print(\"The Number Entered is a Even number\")\n",
    "else:\n",
    "    print(\"The Number Entered is a Odd number\")"
   ]
  },
  {
   "cell_type": "code",
   "execution_count": 13,
   "id": "15769d34-fcfc-4572-83f1-4e6c70d4b9ad",
   "metadata": {},
   "outputs": [
    {
     "name": "stdin",
     "output_type": "stream",
     "text": [
      "Enter the number: 5\n"
     ]
    },
    {
     "name": "stdout",
     "output_type": "stream",
     "text": [
      "5 is a prime number\n",
      "5 is a prime number\n",
      "5 is a prime number\n",
      "Number must be greater than 1.\n"
     ]
    }
   ],
   "source": [
    "# PRIME NUMBER FINDER\n",
    "num=int(input(\"Enter the number:\"))\n",
    "if num>1:\n",
    "    for i in range(2,num):\n",
    "        if num%i==0:\n",
    "            print(num,\"is not a prime number\")\n",
    "            break \n",
    "        else:\n",
    "            print(num,\"is a prime number\")\n",
    "    else:\n",
    "        print(\"Number must be greater than 1.\")"
   ]
  },
  {
   "cell_type": "code",
   "execution_count": 17,
   "id": "37fcea71-bad7-4232-8f75-d29552d5c058",
   "metadata": {},
   "outputs": [
    {
     "name": "stdin",
     "output_type": "stream",
     "text": [
      "Enter a string:  strung\n"
     ]
    },
    {
     "name": "stdout",
     "output_type": "stream",
     "text": [
      "Not a palindrome\n"
     ]
    }
   ],
   "source": [
    "def is_palindrome(s):\n",
    "    return s == s[::-1]\n",
    "\n",
    "string = input(\"Enter a string: \")\n",
    "if is_palindrome(string):\n",
    "    print(\"Palindrome\")\n",
    "else:\n",
    "    print(\"Not a palindrome\")\n"
   ]
  },
  {
   "cell_type": "code",
   "execution_count": 19,
   "id": "9d8b8a30-108d-4426-885b-05543d5a3d16",
   "metadata": {},
   "outputs": [
    {
     "name": "stdin",
     "output_type": "stream",
     "text": [
      "Enter your age:  16\n"
     ]
    },
    {
     "name": "stdout",
     "output_type": "stream",
     "text": [
      "You are not eligible to vote yet.\n"
     ]
    }
   ],
   "source": [
    "age = int(input(\"Enter your age: \"))\n",
    "if age >= 18:\n",
    "    print(\"You are eligible to vote!\")\n",
    "else:\n",
    "    print(\"You are not eligible to vote yet.\")"
   ]
  },
  {
   "cell_type": "code",
   "execution_count": 22,
   "id": "1ec0a32d-b287-411f-bc9f-121d85747a51",
   "metadata": {},
   "outputs": [
    {
     "name": "stdin",
     "output_type": "stream",
     "text": [
      "Enter password:  ABDCESFESSA\n"
     ]
    },
    {
     "name": "stdout",
     "output_type": "stream",
     "text": [
      "Incorrect password.\n"
     ]
    },
    {
     "name": "stdin",
     "output_type": "stream",
     "text": [
      "Enter password:  DFWADASDa\n"
     ]
    },
    {
     "name": "stdout",
     "output_type": "stream",
     "text": [
      "Incorrect password.\n"
     ]
    },
    {
     "name": "stdin",
     "output_type": "stream",
     "text": [
      "Enter password:  python123\n"
     ]
    },
    {
     "name": "stdout",
     "output_type": "stream",
     "text": [
      "Access Granted\n"
     ]
    }
   ],
   "source": [
    "correct_password = \"python123\"\n",
    "attempts = 0\n",
    "while attempts < 3:\n",
    "    password = input(\"Enter password: \")\n",
    "    if password == correct_password:\n",
    "        print(\"Access Granted\")\n",
    "        break\n",
    "    else:\n",
    "        print(\"Incorrect password.\")\n",
    "        attempts += 1\n"
   ]
  },
  {
   "cell_type": "code",
   "execution_count": 26,
   "id": "21ba9edb-b0f2-4dfb-b2ec-5a4e9f3802ec",
   "metadata": {},
   "outputs": [
    {
     "name": "stdin",
     "output_type": "stream",
     "text": [
      "Enter a number:  59\n"
     ]
    },
    {
     "name": "stdout",
     "output_type": "stream",
     "text": [
      "Positive number\n"
     ]
    }
   ],
   "source": [
    "num = int(input(\"Enter a number: \"))\n",
    "if num > 0:\n",
    "    print(\"Positive number\")\n",
    "elif num < 0:\n",
    "    print(\"Negative number\")\n",
    "else:\n",
    "    print(\"Number is zero\")\n"
   ]
  },
  {
   "cell_type": "code",
   "execution_count": 27,
   "id": "2e31725d-6af9-4aa9-b892-9dca2c3480bd",
   "metadata": {},
   "outputs": [
    {
     "name": "stdout",
     "output_type": "stream",
     "text": [
      "Checking number: 5\n",
      "Checking number: 12\n",
      "Checking number: 7\n",
      "Found 20! Stopping search.\n"
     ]
    }
   ],
   "source": [
    "numbers = [5, 12, 7, 20, 15, 9]\n",
    "for num in numbers:\n",
    "    if num == 20:\n",
    "        print(\"Found 20! Stopping search.\")\n",
    "        break\n",
    "    print(\"Checking number:\", num)\n"
   ]
  },
  {
   "cell_type": "code",
   "execution_count": 28,
   "id": "606e5747-1003-4caa-a778-91b166c26a53",
   "metadata": {},
   "outputs": [
    {
     "name": "stdin",
     "output_type": "stream",
     "text": [
      "Enter amount to withdraw (0 to exit):  6000\n"
     ]
    },
    {
     "name": "stdout",
     "output_type": "stream",
     "text": [
      "Insufficient balance!\n"
     ]
    },
    {
     "name": "stdin",
     "output_type": "stream",
     "text": [
      "Enter amount to withdraw (0 to exit):  0\n"
     ]
    },
    {
     "name": "stdout",
     "output_type": "stream",
     "text": [
      "Thank you for using our ATM!\n"
     ]
    }
   ],
   "source": [
    "balance = 5000\n",
    "while True:\n",
    "    amount = int(input(\"Enter amount to withdraw (0 to exit): \"))\n",
    "    \n",
    "    if amount == 0:\n",
    "        print(\"Thank you for using our ATM!\")\n",
    "        break\n",
    "    elif amount > balance:\n",
    "        print(\"Insufficient balance!\")\n",
    "    elif amount % 100 != 0:\n",
    "        print(\"Please enter amount in multiples of 100.\")\n",
    "    else:\n",
    "        balance -= amount\n",
    "        print(f\"Withdrawal successful! Remaining balance:₹{balance}\")\n",
    "\n"
   ]
  },
  {
   "cell_type": "code",
   "execution_count": 29,
   "id": "b315a12e-f934-4fe8-9030-ae387652b2d5",
   "metadata": {},
   "outputs": [
    {
     "name": "stdin",
     "output_type": "stream",
     "text": [
      "How many apples do you want?  40\n",
      "How many bananas do you want?  8\n",
      "How many milks do you want?  6\n",
      "How many breads do you want?  29\n"
     ]
    },
    {
     "name": "stdout",
     "output_type": "stream",
     "text": [
      "Your total bill is: ₹3190\n"
     ]
    }
   ],
   "source": [
    "items = {\"apple\": 50, \"banana\": 10, \"milk\": 40, \"bread\": 30}\n",
    "total = 0\n",
    "\n",
    "for item, price in items.items():\n",
    "    qty = int(input(f\"How many {item}s do you want? \"))\n",
    "    if qty <= 0:\n",
    "        continue  # skip if not buying this item\n",
    "    total += price * qty\n",
    "\n",
    "print(f\"Your total bill is: ₹{total}\")\n",
    "\n"
   ]
  },
  {
   "cell_type": "code",
   "execution_count": 30,
   "id": "83171508-270e-4e4f-ac26-cb2a544f4360",
   "metadata": {},
   "outputs": [
    {
     "name": "stdin",
     "output_type": "stream",
     "text": [
      "Enter your marks:  90\n"
     ]
    },
    {
     "name": "stdout",
     "output_type": "stream",
     "text": [
      "Your grade is: A+\n"
     ]
    }
   ],
   "source": [
    "marks = int(input(\"Enter your marks: \"))\n",
    "\n",
    "if marks >= 90:\n",
    "    grade = \"A+\"\n",
    "elif marks >= 75:\n",
    "    grade = \"A\"\n",
    "elif marks >= 60:\n",
    "    grade = \"B\"\n",
    "elif marks >= 50:\n",
    "    grade = \"C\"\n",
    "else:\n",
    "    grade = \"Fail\"\n",
    "\n",
    "print(\"Your grade is:\", grade)\n"
   ]
  },
  {
   "cell_type": "code",
   "execution_count": null,
   "id": "0cee5763-00bf-408c-804a-0813f38b8b6b",
   "metadata": {},
   "outputs": [
    {
     "name": "stdin",
     "output_type": "stream",
     "text": [
      "Attempt 1: Guess the number (1-20):  9\n"
     ]
    },
    {
     "name": "stdout",
     "output_type": "stream",
     "text": [
      "Too low! Try again.\n"
     ]
    },
    {
     "name": "stdin",
     "output_type": "stream",
     "text": [
      "Attempt 2: Guess the number (1-20):  5\n"
     ]
    },
    {
     "name": "stdout",
     "output_type": "stream",
     "text": [
      "Too low! Try again.\n"
     ]
    },
    {
     "name": "stdin",
     "output_type": "stream",
     "text": [
      "Attempt 3: Guess the number (1-20):  6\n"
     ]
    },
    {
     "name": "stdout",
     "output_type": "stream",
     "text": [
      "Too low! Try again.\n"
     ]
    },
    {
     "name": "stdin",
     "output_type": "stream",
     "text": [
      "Attempt 4: Guess the number (1-20):  1\n"
     ]
    },
    {
     "name": "stdout",
     "output_type": "stream",
     "text": [
      "Too low! Try again.\n"
     ]
    }
   ],
   "source": [
    "import random\n",
    "secret_number = random.randint(1, 20)\n",
    "for attempt in range(1, 6):\n",
    "    guess = int(input(f\"Attempt {attempt}: Guess the number (1-20): \"))\n",
    "\n",
    "    if guess == secret_number:\n",
    "        print(\"Correct! You guessed it in\", attempt, \"tries.\")\n",
    "        break\n",
    "    elif guess < secret_number:\n",
    "        print(\"Too low! Try again.\")\n",
    "    else:\n",
    "        print(\"Too high! Try again.\")\n",
    "else:\n",
    "    print(\"Sorry! The number was\", secret_number)\n",
    "\n"
   ]
  },
  {
   "cell_type": "code",
   "execution_count": null,
   "id": "923b03c3-1161-4e7d-82cb-d0abc6851595",
   "metadata": {},
   "outputs": [],
   "source": []
  }
 ],
 "metadata": {
  "kernelspec": {
   "display_name": "Python 3 (ipykernel)",
   "language": "python",
   "name": "python3"
  },
  "language_info": {
   "codemirror_mode": {
    "name": "ipython",
    "version": 3
   },
   "file_extension": ".py",
   "mimetype": "text/x-python",
   "name": "python",
   "nbconvert_exporter": "python",
   "pygments_lexer": "ipython3",
   "version": "3.13.5"
  }
 },
 "nbformat": 4,
 "nbformat_minor": 5
}

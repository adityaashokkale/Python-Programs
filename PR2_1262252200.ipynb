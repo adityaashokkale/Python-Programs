{
 "cells": [
  {
   "cell_type": "code",
   "execution_count": 2,
   "id": "c4ce2149-79b5-46b6-aa61-8dbd9ae4af5d",
   "metadata": {},
   "outputs": [
    {
     "name": "stdout",
     "output_type": "stream",
     "text": [
      "['apple', 'cherry', 'orange']\n"
     ]
    }
   ],
   "source": [
    "fruits = ['apple', 'banana', 'cherry']\n",
    "fruits.append('orange')\n",
    "fruits.remove('banana')\n",
    "print(fruits) #['apple', 'cherry' 'orange']"
   ]
  },
  {
   "cell_type": "code",
   "execution_count": 2,
   "id": "17190420-b864-40e7-8d9a-f98a8466e867",
   "metadata": {},
   "outputs": [
    {
     "name": "stdout",
     "output_type": "stream",
     "text": [
      "['1', '3', '1000000000000']\n"
     ]
    }
   ],
   "source": [
    "Numbers = ['1', '2', '3']\n",
    "Numbers.append('1000000000000')\n",
    "Numbers.remove('2')\n",
    "print(Numbers)"
   ]
  },
  {
   "cell_type": "code",
   "execution_count": 11,
   "id": "7d04611a-b569-4619-aba5-bbe8da32fb05",
   "metadata": {},
   "outputs": [
    {
     "name": "stdout",
     "output_type": "stream",
     "text": [
      "['3', '6', '9', 'E', 'F', 'G']\n"
     ]
    }
   ],
   "source": [
    "list1 = ['3', '6', '9']\n",
    "list2 = ['G', 'F', 'E']\n",
    "merged_list = sorted(list1 + list2)\n",
    "print(merged_list)"
   ]
  },
  {
   "cell_type": "code",
   "execution_count": 16,
   "id": "6e7b39d6-5494-41ba-97cc-8950b4d9d8f1",
   "metadata": {},
   "outputs": [
    {
     "name": "stdin",
     "output_type": "stream",
     "text": [
      "Enter a number: -6\n"
     ]
    },
    {
     "name": "stdout",
     "output_type": "stream",
     "text": [
      "Negative Number\n"
     ]
    }
   ],
   "source": [
    "num = float(input(\"Enter a number:\"))\n",
    "if num>0:\n",
    "    print(\"Positive Number\")\n",
    "elif num<0:\n",
    "    print(\"Negative Number\")\n",
    "else:\n",
    "    print(\"Number is zero\")"
   ]
  },
  {
   "cell_type": "code",
   "execution_count": 22,
   "id": "19403a2d-3885-4a6f-9468-f217f8cb228f",
   "metadata": {},
   "outputs": [
    {
     "name": "stdout",
     "output_type": "stream",
     "text": [
      "['apple', 'cherry', 'orange']\n",
      "orange\n"
     ]
    }
   ],
   "source": [
    "fruits = ['apple', 'banana', 'cherry']\n",
    "fruits.append('orange')\n",
    "fruits.remove('banana')\n",
    "print(fruits) #['apple', 'cherry' 'orange']\n",
    "print(fruits[2])"
   ]
  },
  {
   "cell_type": "code",
   "execution_count": 24,
   "id": "9f43b408-9466-478d-969d-036458ce2b1b",
   "metadata": {},
   "outputs": [
    {
     "name": "stdout",
     "output_type": "stream",
     "text": [
      "This is fine: [['BMW', 'VolkWagen', 'Bugati', 'Ford', 'Jeep', 'Mustang']]\n",
      "This is okay: [['Toyota', 'KIA', 'Hyundai', 'Ferrari', 'Lamborgini', 'Pagani']]\n",
      "This is Perfection: [[['BMW', 'VolkWagen', 'Bugati', 'Ford', 'Jeep', 'Mustang'], ['Toyota', 'KIA', 'Hyundai', 'Ferrari', 'Lamborgini', 'Pagani']]]\n"
     ]
    }
   ],
   "source": [
    "# Q.1 Create a list of Cars\n",
    "\n",
    "AmericanCars = ['Ford', 'Jeep', 'Mustang']\n",
    "JapaneseCars = ['Toyota', 'KIA', 'Hyundai']\n",
    "ItalianCars = ['Ferrari', 'Lamborgini', 'Pagani']\n",
    "GermanCars = ['BMW', 'VolkWagen', 'Bugati']\n",
    "\n",
    "merged_list1 = [GermanCars + AmericanCars]\n",
    "merged_list2 = [JapaneseCars + ItalianCars]\n",
    "merged_list3 = [merged_list1 + merged_list2]\n",
    "JapaneseCars.remove('KIA')\n",
    "\n",
    "print(\"This is fine:\", merged_list1)\n",
    "print(\"This is okay:\", merged_list2)\n",
    "print(\"This is Perfection:\", merged_list3)"
   ]
  },
  {
   "cell_type": "code",
   "execution_count": 29,
   "id": "a6d2f1df-8a2a-4a7b-9642-1ac94ec7287a",
   "metadata": {},
   "outputs": [
    {
     "name": "stdout",
     "output_type": "stream",
     "text": [
      "200\n"
     ]
    },
    {
     "ename": "TypeError",
     "evalue": "'tuple' object does not support item assignment",
     "output_type": "error",
     "traceback": [
      "\u001b[1;31m---------------------------------------------------------------------------\u001b[0m",
      "\u001b[1;31mTypeError\u001b[0m                                 Traceback (most recent call last)",
      "Cell \u001b[1;32mIn[29], line 3\u001b[0m\n\u001b[0;32m      1\u001b[0m Dimension \u001b[38;5;241m=\u001b[39m (\u001b[38;5;241m100\u001b[39m, \u001b[38;5;241m200\u001b[39m)\n\u001b[0;32m      2\u001b[0m \u001b[38;5;28mprint\u001b[39m(Dimension[\u001b[38;5;241m1\u001b[39m])\n\u001b[1;32m----> 3\u001b[0m Dimension[\u001b[38;5;241m0\u001b[39m] \u001b[38;5;241m=\u001b[39m \u001b[38;5;241m250\u001b[39m\n",
      "\u001b[1;31mTypeError\u001b[0m: 'tuple' object does not support item assignment"
     ]
    }
   ],
   "source": [
    "Dimension = (100, 200)\n",
    "print(Dimension[1])\n",
    "Dimension[0] = 250 # It errors because Tuples are immutable"
   ]
  },
  {
   "cell_type": "code",
   "execution_count": 4,
   "id": "6caf2666-0897-446f-85ce-ae97436e26aa",
   "metadata": {},
   "outputs": [
    {
     "ename": "SyntaxError",
     "evalue": "invalid syntax. Perhaps you forgot a comma? (2721204661.py, line 2)",
     "output_type": "error",
     "traceback": [
      "\u001b[1;36m  Cell \u001b[1;32mIn[4], line 2\u001b[1;36m\u001b[0m\n\u001b[1;33m    print(Dimension[]);\u001b[0m\n\u001b[1;37m          ^\u001b[0m\n\u001b[1;31mSyntaxError\u001b[0m\u001b[1;31m:\u001b[0m invalid syntax. Perhaps you forgot a comma?\n"
     ]
    }
   ],
   "source": [
    "Dimension = (250, 200)\n",
    "print(Dimension[]);\n",
    "Dimension[0] = 250 # It errors because Tuples are immutable"
   ]
  },
  {
   "cell_type": "code",
   "execution_count": 2,
   "id": "127d21cd-640b-4286-935c-5be157730bea",
   "metadata": {},
   "outputs": [
    {
     "name": "stdout",
     "output_type": "stream",
     "text": [
      "Mit Wpu\n",
      "MIT WPU\n",
      "mit wpu\n"
     ]
    }
   ],
   "source": [
    "name = \"mit wpu\"\n",
    "print(name.title())\n",
    "print(name.upper())\n",
    "print(name.lower())"
   ]
  },
  {
   "cell_type": "code",
   "execution_count": null,
   "id": "a4f00e1e-413a-4cdb-a5e2-755ad103940b",
   "metadata": {},
   "outputs": [],
   "source": []
  },
  {
   "cell_type": "code",
   "execution_count": 7,
   "id": "a147fd8c-49ca-4355-a3f7-b0c03c1c16a0",
   "metadata": {},
   "outputs": [
    {
     "name": "stdout",
     "output_type": "stream",
     "text": [
      "trek\n",
      "Trek\n",
      "cannondale\n",
      "specialized\n",
      "specialized\n",
      "yamaha\n",
      "['honda', 'yamaha', 'suzuki']\n",
      "['ducati', 'honda', 'yamaha', 'suzuki']\n",
      "['honda', 'yamaha', 'suzuki']\n"
     ]
    }
   ],
   "source": [
    "bicycles = ['trek', 'cannondale', 'redline', 'specialized']\n",
    "print(bicycles[0])\n",
    "print(bicycles[0].title())\n",
    "print(bicycles[1])\n",
    "print(bicycles[3])\n",
    "print(bicycles[-1])\n",
    "motorcycles = ['honda', 'yamaha', 'suzuki']\n",
    "print(motorcycles[1])\n",
    "motorcycles = []\n",
    "motorcycles.append('honda')\n",
    "motorcycles.append('yamaha')\n",
    "motorcycles.append('suzuki')\n",
    "print(motorcycles)\n",
    "\n",
    "motorcycles.insert(0, 'ducati')\n",
    "print(motorcycles)\n",
    "\n",
    "del motorcycles[0]\n",
    "print (motorcycles)"
   ]
  },
  {
   "cell_type": "code",
   "execution_count": 8,
   "id": "5d37b455-447c-4002-9cd0-14ae86b19b99",
   "metadata": {},
   "outputs": [
    {
     "ename": "TypeError",
     "evalue": "list.append() takes exactly one argument (3 given)",
     "output_type": "error",
     "traceback": [
      "\u001b[1;31m---------------------------------------------------------------------------\u001b[0m",
      "\u001b[1;31mTypeError\u001b[0m                                 Traceback (most recent call last)",
      "Cell \u001b[1;32mIn[8], line 2\u001b[0m\n\u001b[0;32m      1\u001b[0m motorcycles \u001b[38;5;241m=\u001b[39m []\n\u001b[1;32m----> 2\u001b[0m motorcycles\u001b[38;5;241m.\u001b[39mappend(\u001b[38;5;124m'\u001b[39m\u001b[38;5;124mhonda\u001b[39m\u001b[38;5;124m'\u001b[39m, \u001b[38;5;124m'\u001b[39m\u001b[38;5;124myamaha\u001b[39m\u001b[38;5;124m'\u001b[39m, \u001b[38;5;124m'\u001b[39m\u001b[38;5;124msuzuki\u001b[39m\u001b[38;5;124m'\u001b[39m)\n\u001b[0;32m      3\u001b[0m \u001b[38;5;28mprint\u001b[39m(motorcycles)\n\u001b[0;32m      5\u001b[0m motorcycles\u001b[38;5;241m.\u001b[39minsert(\u001b[38;5;241m0\u001b[39m, \u001b[38;5;124m'\u001b[39m\u001b[38;5;124mducati\u001b[39m\u001b[38;5;124m'\u001b[39m)\n",
      "\u001b[1;31mTypeError\u001b[0m: list.append() takes exactly one argument (3 given)"
     ]
    }
   ],
   "source": [
    "motorcycles = []\n",
    "motorcycles.append('honda', 'yamaha', 'suzuki') # 'append' only takes one arguement\n",
    "print(motorcycles)\n",
    "\n",
    "motorcycles.insert(0, 'ducati')\n",
    "print(motorcycles)\n",
    "\n",
    "del motorcycles[0]\n",
    "print (motorcycles)"
   ]
  },
  {
   "cell_type": "code",
   "execution_count": 13,
   "id": "46c12730-fbe4-427b-8e47-002a8de10566",
   "metadata": {},
   "outputs": [
    {
     "name": "stdout",
     "output_type": "stream",
     "text": [
      "The last motorcycles I owned was a Suzuki\n",
      "The first motorcycles I owned was a Honda\n",
      "The first bike I owned was a yamaha\n"
     ]
    }
   ],
   "source": [
    "motorcycles = ['honda', 'yamaha', 'suzuki']\n",
    "last_owned = motorcycles.pop()\n",
    "print(\"The last motorcycles I owned was a\", last_owned.title())\n",
    "\n",
    "first_owned = motorcycles.pop(0)\n",
    "print(\"The first motorcycles I owned was a\", first_owned.title())\n",
    "\n",
    "print(\"The first bike I owned was a\", motorcycles[0]) # 'pop' element when given a position, skips it and proceeds to give output of the succeeding arguement"
   ]
  },
  {
   "cell_type": "code",
   "execution_count": 15,
   "id": "f7215bf9-d285-4322-9205-e7f1dc5376f4",
   "metadata": {},
   "outputs": [
    {
     "name": "stdout",
     "output_type": "stream",
     "text": [
      "['Audi', 'BMW', 'Subaru', 'Toyota']\n",
      "['Toyota', 'Subaru', 'BMW', 'Audi']\n"
     ]
    },
    {
     "data": {
      "text/plain": [
       "4"
      ]
     },
     "execution_count": 15,
     "metadata": {},
     "output_type": "execute_result"
    }
   ],
   "source": [
    "cars = ['BMW', 'Audi', 'Toyota', 'Subaru']\n",
    "cars.sort()\n",
    "print(cars)\n",
    "\n",
    "cars.sort(reverse = True)\n",
    "print(cars)\n",
    "len(cars)"
   ]
  },
  {
   "cell_type": "code",
   "execution_count": 18,
   "id": "b7725d51-f5bd-45cc-ab8c-f4bcf69bb921",
   "metadata": {},
   "outputs": [
    {
     "name": "stdout",
     "output_type": "stream",
     "text": [
      "{'color': 'green', 'points': 5}\n",
      "The alien is: green\n",
      "The alien is now: yellow\n"
     ]
    }
   ],
   "source": [
    "alien_o = {}\n",
    "alien_o['color'] = 'green'\n",
    "alien_o['points'] = 5\n",
    "print(alien_o)\n",
    "\n",
    "#Modifications\n",
    "\n",
    "alien_o = {'color': 'green'}\n",
    "print(\"The alien is:\", alien_o['color'])\n",
    "alien_o['color'] = 'yellow'\n",
    "print(\"The alien is now:\", alien_o['color'])"
   ]
  },
  {
   "cell_type": "code",
   "execution_count": 20,
   "id": "e5d91234-3bea-475a-9fde-d5ccaef6c12f",
   "metadata": {},
   "outputs": [
    {
     "name": "stdout",
     "output_type": "stream",
     "text": [
      "{1, 2, 36, 69, 4, 15151515}\n"
     ]
    }
   ],
   "source": [
    "nums = {1, 2, 36, 69, 15151515, 69}\n",
    "nums.add(4)\n",
    "print(nums)"
   ]
  },
  {
   "cell_type": "code",
   "execution_count": 24,
   "id": "174bc1f1-acc0-47d3-9703-67b912f406b1",
   "metadata": {},
   "outputs": [
    {
     "data": {
      "text/plain": [
       "False"
      ]
     },
     "execution_count": 24,
     "metadata": {},
     "output_type": "execute_result"
    }
   ],
   "source": [
    "car = 'Audi'\n",
    "car == 'BMW'"
   ]
  },
  {
   "cell_type": "code",
   "execution_count": 25,
   "id": "2d5dbdf2-33c3-4d3c-af12-8db5ce931fb2",
   "metadata": {},
   "outputs": [
    {
     "data": {
      "text/plain": [
       "False"
      ]
     },
     "execution_count": 25,
     "metadata": {},
     "output_type": "execute_result"
    }
   ],
   "source": [
    "car = 'Audi'\n",
    "car == 'audi'"
   ]
  },
  {
   "cell_type": "code",
   "execution_count": 26,
   "id": "28947e86-1c46-4319-a756-440acbb90784",
   "metadata": {},
   "outputs": [
    {
     "data": {
      "text/plain": [
       "True"
      ]
     },
     "execution_count": 26,
     "metadata": {},
     "output_type": "execute_result"
    }
   ],
   "source": [
    "car = 'Audi'\n",
    "car.lower() == 'audi'"
   ]
  }
 ],
 "metadata": {
  "kernelspec": {
   "display_name": "Python 3 (ipykernel)",
   "language": "python",
   "name": "python3"
  },
  "language_info": {
   "codemirror_mode": {
    "name": "ipython",
    "version": 3
   },
   "file_extension": ".py",
   "mimetype": "text/x-python",
   "name": "python",
   "nbconvert_exporter": "python",
   "pygments_lexer": "ipython3",
   "version": "3.13.5"
  }
 },
 "nbformat": 4,
 "nbformat_minor": 5
}
